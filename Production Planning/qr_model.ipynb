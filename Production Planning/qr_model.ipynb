{
 "cells": [
  {
   "cell_type": "code",
   "execution_count": 1,
   "outputs": [],
   "source": [
    "import numpy as np\n",
    "import random"
   ],
   "metadata": {
    "collapsed": false,
    "ExecuteTime": {
     "end_time": "2023-11-29T07:35:34.057968Z",
     "start_time": "2023-11-29T07:35:33.859607Z"
    }
   }
  },
  {
   "cell_type": "code",
   "execution_count": 4,
   "outputs": [
    {
     "name": "stdout",
     "output_type": "stream",
     "text": [
      "\n",
      "Model created, Proceeding to Optimisation with GA.\n",
      "\n",
      "Optimal [Order Quantity, Reorder point] & Estimated Cycle Inventory level will be printed below...\n",
      "\n",
      " The best solution found:                                                                           \n",
      " [103.69742862 449.25194346]\n",
      "\n",
      " Objective function:\n",
      " 227.0386663184926\n"
     ]
    },
    {
     "data": {
      "text/plain": "<Figure size 640x480 with 1 Axes>",
      "image/png": "[encoded data removed]"
     },
     "metadata": {},
     "output_type": "display_data"
    },
    {
     "name": "stdout",
     "output_type": "stream",
     "text": [
      "\n",
      "Warning: GA is terminated due to the maximum number of iterations without improvement was met!"
     ]
    }
   ],
   "source": [
    "days = int(input(\"For how many days do you want to run this Simulation: \"))\n",
    "\n",
    "demand_mean = float(input(\"What is the Average daily Demand: \"))\n",
    "demand_sd = float(input(\"What is the Standard deviation of daily Demand: \"))\n",
    "lead_time_max = int(input(\"What is the Maximum lead time in days: \"))\n",
    "lead_time_min = int(input(\"What is the Minimum lead time in days: \"))\n",
    "\n",
    "asl = float(input(\"What is the required service level (e.g. 95.0) : \"))\n",
    "\n",
    "kk =0\n",
    "\n",
    "if not 0<asl<100: #data validation on ASL\n",
    "    while kk == 0:\n",
    "        print(\"required service level has to be between 0 to 100\")\n",
    "        asl = float(input(\"What is the required service level (e.g. 95.0) : \"))\n",
    "        if not 0<asl<100:\n",
    "            kk=0\n",
    "        else:\n",
    "            kk=1\n",
    "\n",
    "\n",
    "days = days + 2*lead_time_max      # adding extra days to stabilise the simulation\n",
    "days2 = days*2\n",
    "\n",
    "def stoch_inv_sim(X): #Stochastic model defined as a function called stoch_inv_sim([Order qty, Reorder point])\n",
    "\n",
    "    obj =0      #objective function for Genetic algorithm\n",
    "\n",
    "    for k in range(10):  #Every strategy will be tested for 10 times since we are generating demand using random function,to be more exhaustive, you can increase the number to a higher value.\n",
    "        tot_demand =0\n",
    "        tot_sales=0\n",
    "\n",
    "        a = [max(0,np.random.normal(demand_mean,demand_sd,1)) for i in range(days)] #Generating a random Demand\n",
    "        stkout_count = 0\n",
    "        inv =[]                 # array to store daily inventory\n",
    "        pip_inv=[]\n",
    "\n",
    "        in_qty = [0 for i in range(days2)]     #array indicating receipt of goods\n",
    "        order_qty = X[0]\n",
    "        reorder_pt = X[1]\n",
    "\n",
    "\n",
    "        for i in range(days):\n",
    "\n",
    "            if i == 0:\n",
    "                beg_inv = reorder_pt            #day 0 assigning reorder point as begining inventory\n",
    "                in_inv = 0\n",
    "                stock_open = beg_inv + in_inv\n",
    "            else:\n",
    "                beg_inv = end_inv\n",
    "                in_inv = in_qty[i]              #incoming inventory on i'th day\n",
    "                stock_open = beg_inv + in_inv\n",
    "\n",
    "            demand = a[i]                     #calling demand of i'th day from demand array a\n",
    "\n",
    "            lead_time = random.randint(lead_time_min,lead_time_max)    #lead time of replenishment\n",
    "\n",
    "            if demand < stock_open:\n",
    "                end_inv = stock_open - demand     #formula to calculate ending inventory\n",
    "            else:\n",
    "                end_inv = 0\n",
    "            inv.append(0.5*stock_open+0.5*end_inv)     #storing the average of opening stock and ending inventory as cycle inventory\n",
    "\n",
    "\n",
    "\n",
    "            if i==0:\n",
    "                pipeline_inv = 0\n",
    "            else:\n",
    "                pipeline_inv = sum(in_qty[j] for j in (i+1,days2-1))   #calculating the piepline inventory as on i'th day\n",
    "\n",
    "            if pipeline_inv + end_inv <= reorder_pt:\n",
    "                if i+lead_time <days:\n",
    "                    in_qty[i+lead_time] = in_qty[i+lead_time]+order_qty   #ordering new stock and adding to the incoming inventory list\n",
    "\n",
    "            if i>=2*lead_time_max:                            #the start of simulation performance monitoring\n",
    "                tot_sales = tot_sales + stock_open - end_inv  #total sales during the simulation length\n",
    "                tot_demand = tot_demand + demand              #total demand during the simulation length\n",
    "\n",
    "\n",
    "        cycle_inv = 0\n",
    "        for n in range(len(inv)):\n",
    "            cycle_inv = cycle_inv + inv[n]              #calculating the averge cycle inventory\n",
    "        cycle_inv = cycle_inv/len(inv)\n",
    "\n",
    "        if tot_sales*100/(tot_demand+0.000001) <asl:\n",
    "            aa = cycle_inv+10000000*demand_mean*(tot_demand-tot_sales)  #Imposing a penatly when ASL is not met the requirement\n",
    "        else:\n",
    "            aa = cycle_inv\n",
    "\n",
    "        obj = obj + aa      #objective function i.e. cycle inventory calculation\n",
    "\n",
    "\n",
    "    return obj/10\n",
    "\n",
    "\n",
    "print()\n",
    "print(\"Model created, Proceeding to Optimisation with GA.\")\n",
    "print()\n",
    "print(\"Optimal [Order Quantity, Reorder point] & Estimated Cycle Inventory level will be printed below...\")\n",
    "print()\n",
    "\n",
    "#Below is the gentic Algorithm code\n",
    "\n",
    "from geneticalgorithm import geneticalgorithm as ga\n",
    "\n",
    "varbound=np.array([[0,demand_mean*lead_time_max*5]]*2)\n",
    "\n",
    "algorithm_param = {'max_num_iteration': 1000,\n",
    "                   'population_size':15,\n",
    "                   'mutation_probability':0.1,\n",
    "                   'elit_ratio': 0.01,\n",
    "                   'crossover_probability': 0.5,\n",
    "                   'parents_portion': 0.3,\n",
    "                   'crossover_type':'uniform',\n",
    "                   'max_iteration_without_improv':200}\n",
    "\n",
    "model=ga(function=stoch_inv_sim,dimension=2,variable_type='real',variable_boundaries=varbound,algorithm_parameters=algorithm_param)\n",
    "\n",
    "model.run()"
   ],
   "metadata": {
    "collapsed": false,
    "ExecuteTime": {
     "end_time": "2023-11-29T08:35:49.962861Z",
     "start_time": "2023-11-29T08:35:01.353403Z"
    }
   }
  },
  {
   "cell_type": "code",
   "execution_count": null,
   "outputs": [],
   "source": [],
   "metadata": {
    "collapsed": false
   }
  }
 ],
 "metadata": {
  "kernelspec": {
   "display_name": "Python 3",
   "language": "python",
   "name": "python3"
  },
  "language_info": {
   "codemirror_mode": {
    "name": "ipython",
    "version": 2
   },
   "file_extension": ".py",
   "mimetype": "text/x-python",
   "name": "python",
   "nbconvert_exporter": "python",
   "pygments_lexer": "ipython2",
   "version": "2.7.6"
  }
 },
 "nbformat": 4,
 "nbformat_minor": 0
}
