{
 "cells": [
  {
   "cell_type": "markdown",
   "source": [
    "Wagner-Whitin Algorithm For Production Planning"
   ],
   "metadata": {
    "collapsed": false
   }
  },
  {
   "cell_type": "code",
   "execution_count": 31,
   "outputs": [],
   "source": [
    "import numpy as np\n",
    "import pandas as pd\n",
    "import matplotlib.pyplot as plt"
   ],
   "metadata": {
    "collapsed": false,
    "ExecuteTime": {
     "end_time": "2023-10-04T18:46:10.478155Z",
     "start_time": "2023-10-04T18:46:10.464916Z"
    }
   }
  },
  {
   "cell_type": "code",
   "execution_count": 39,
   "outputs": [
    {
     "data": {
      "text/plain": "    period  forecast\n0        1       200\n1        2       150\n2        3       100\n3        4        50\n4        5        50\n5        6       100\n6        7       150\n7        8       200\n8        9       200\n9       10       250\n10      11       300\n11      12       250",
      "text/html": "<div>\n<style scoped>\n    .dataframe tbody tr th:only-of-type {\n        vertical-align: middle;\n    }\n\n    .dataframe tbody tr th {\n        vertical-align: top;\n    }\n\n    .dataframe thead th {\n        text-align: right;\n    }\n</style>\n<table border=\"1\" class=\"dataframe\">\n  <thead>\n    <tr style=\"text-align: right;\">\n      <th></th>\n      <th>period</th>\n      <th>forecast</th>\n    </tr>\n  </thead>\n  <tbody>\n    <tr>\n      <th>0</th>\n      <td>1</td>\n      <td>200</td>\n    </tr>\n    <tr>\n      <th>1</th>\n      <td>2</td>\n      <td>150</td>\n    </tr>\n    <tr>\n      <th>2</th>\n      <td>3</td>\n      <td>100</td>\n    </tr>\n    <tr>\n      <th>3</th>\n      <td>4</td>\n      <td>50</td>\n    </tr>\n    <tr>\n      <th>4</th>\n      <td>5</td>\n      <td>50</td>\n    </tr>\n    <tr>\n      <th>5</th>\n      <td>6</td>\n      <td>100</td>\n    </tr>\n    <tr>\n      <th>6</th>\n      <td>7</td>\n      <td>150</td>\n    </tr>\n    <tr>\n      <th>7</th>\n      <td>8</td>\n      <td>200</td>\n    </tr>\n    <tr>\n      <th>8</th>\n      <td>9</td>\n      <td>200</td>\n    </tr>\n    <tr>\n      <th>9</th>\n      <td>10</td>\n      <td>250</td>\n    </tr>\n    <tr>\n      <th>10</th>\n      <td>11</td>\n      <td>300</td>\n    </tr>\n    <tr>\n      <th>11</th>\n      <td>12</td>\n      <td>250</td>\n    </tr>\n  </tbody>\n</table>\n</div>"
     },
     "execution_count": 39,
     "metadata": {},
     "output_type": "execute_result"
    }
   ],
   "source": [
    "# forecasts\n",
    "data = pd.read_csv('demand_forecasts.csv', sep=\";\")\n",
    "data"
   ],
   "metadata": {
    "collapsed": false,
    "ExecuteTime": {
     "end_time": "2023-10-04T18:46:31.697403Z",
     "start_time": "2023-10-04T18:46:31.672913Z"
    }
   }
  },
  {
   "cell_type": "code",
   "execution_count": 40,
   "outputs": [
    {
     "data": {
      "text/plain": "         type  cost\n0       setup   500\n1     holding     1\n2  production    50",
      "text/html": "<div>\n<style scoped>\n    .dataframe tbody tr th:only-of-type {\n        vertical-align: middle;\n    }\n\n    .dataframe tbody tr th {\n        vertical-align: top;\n    }\n\n    .dataframe thead th {\n        text-align: right;\n    }\n</style>\n<table border=\"1\" class=\"dataframe\">\n  <thead>\n    <tr style=\"text-align: right;\">\n      <th></th>\n      <th>type</th>\n      <th>cost</th>\n    </tr>\n  </thead>\n  <tbody>\n    <tr>\n      <th>0</th>\n      <td>setup</td>\n      <td>500</td>\n    </tr>\n    <tr>\n      <th>1</th>\n      <td>holding</td>\n      <td>1</td>\n    </tr>\n    <tr>\n      <th>2</th>\n      <td>production</td>\n      <td>50</td>\n    </tr>\n  </tbody>\n</table>\n</div>"
     },
     "execution_count": 40,
     "metadata": {},
     "output_type": "execute_result"
    }
   ],
   "source": [
    "#costs\n",
    "cost_data = pd.read_csv('costs.csv', sep=\";\")\n",
    "cost_data"
   ],
   "metadata": {
    "collapsed": false,
    "ExecuteTime": {
     "end_time": "2023-10-04T18:46:31.840610Z",
     "start_time": "2023-10-04T18:46:31.818553Z"
    }
   }
  },
  {
   "cell_type": "code",
   "execution_count": 41,
   "outputs": [],
   "source": [
    "# Setup Cost Per Production Run\n",
    "setup_cost = cost_data.loc[0, 'cost']\n",
    "\n",
    "# Holding Cost Per Unit\n",
    "holding_cost = cost_data.loc[1, 'cost']\n",
    "\n",
    "# Production Cost Per Unit\n",
    "production_cost = cost_data.loc[2, 'cost']"
   ],
   "metadata": {
    "collapsed": false,
    "ExecuteTime": {
     "end_time": "2023-10-04T18:46:32.065503Z",
     "start_time": "2023-10-04T18:46:32.031001Z"
    }
   }
  },
  {
   "cell_type": "code",
   "execution_count": 42,
   "outputs": [
    {
     "data": {
      "text/plain": "period     1     2     3     4     5     6     7     8     9     10     11  \\\nOrder 1   500   650   850  1000  1200  1700  2600  4000  5600  7850  10850   \nOrder 2     0  1000  1100  1200  1350  1750  2500  3700  5100  7100   9800   \nOrder 3     0     0  1150  1200  1300  1600  2200  3200  4400  6150   8550   \nOrder 4     0     0     0  1350  1400  1600  2050  2850  3850  5350   7450   \nOrder 5     0     0     0     0  1500  1600  1900  2500  3300  4550   6350   \nOrder 6     0     0     0     0     0  1700  1850  2250  2850  3850   5350   \nOrder 7     0     0     0     0     0     0  2100  2300  2700  3450   4650   \nOrder 8     0     0     0     0     0     0     0  2350  2550  3050   3950   \nOrder 9     0     0     0     0     0     0     0     0  2750  3000   3600   \nOrder 10    0     0     0     0     0     0     0     0     0  3050   3350   \nOrder 11    0     0     0     0     0     0     0     0     0     0   3500   \nOrder 12    0     0     0     0     0     0     0     0     0     0      0   \n\nperiod       12  \nOrder 1   13600  \nOrder 2   12300  \nOrder 3   10800  \nOrder 4    9450  \nOrder 5    8100  \nOrder 6    6850  \nOrder 7    5900  \nOrder 8    4950  \nOrder 9    4350  \nOrder 10   3850  \nOrder 11   3750  \nOrder 12   3850  ",
      "text/html": "<div>\n<style scoped>\n    .dataframe tbody tr th:only-of-type {\n        vertical-align: middle;\n    }\n\n    .dataframe tbody tr th {\n        vertical-align: top;\n    }\n\n    .dataframe thead th {\n        text-align: right;\n    }\n</style>\n<table border=\"1\" class=\"dataframe\">\n  <thead>\n    <tr style=\"text-align: right;\">\n      <th>period</th>\n      <th>1</th>\n      <th>2</th>\n      <th>3</th>\n      <th>4</th>\n      <th>5</th>\n      <th>6</th>\n      <th>7</th>\n      <th>8</th>\n      <th>9</th>\n      <th>10</th>\n      <th>11</th>\n      <th>12</th>\n    </tr>\n  </thead>\n  <tbody>\n    <tr>\n      <th>Order 1</th>\n      <td>500</td>\n      <td>650</td>\n      <td>850</td>\n      <td>1000</td>\n      <td>1200</td>\n      <td>1700</td>\n      <td>2600</td>\n      <td>4000</td>\n      <td>5600</td>\n      <td>7850</td>\n      <td>10850</td>\n      <td>13600</td>\n    </tr>\n    <tr>\n      <th>Order 2</th>\n      <td>0</td>\n      <td>1000</td>\n      <td>1100</td>\n      <td>1200</td>\n      <td>1350</td>\n      <td>1750</td>\n      <td>2500</td>\n      <td>3700</td>\n      <td>5100</td>\n      <td>7100</td>\n      <td>9800</td>\n      <td>12300</td>\n    </tr>\n    <tr>\n      <th>Order 3</th>\n      <td>0</td>\n      <td>0</td>\n      <td>1150</td>\n      <td>1200</td>\n      <td>1300</td>\n      <td>1600</td>\n      <td>2200</td>\n      <td>3200</td>\n      <td>4400</td>\n      <td>6150</td>\n      <td>8550</td>\n      <td>10800</td>\n    </tr>\n    <tr>\n      <th>Order 4</th>\n      <td>0</td>\n      <td>0</td>\n      <td>0</td>\n      <td>1350</td>\n      <td>1400</td>\n      <td>1600</td>\n      <td>2050</td>\n      <td>2850</td>\n      <td>3850</td>\n      <td>5350</td>\n      <td>7450</td>\n      <td>9450</td>\n    </tr>\n    <tr>\n      <th>Order 5</th>\n      <td>0</td>\n      <td>0</td>\n      <td>0</td>\n      <td>0</td>\n      <td>1500</td>\n      <td>1600</td>\n      <td>1900</td>\n      <td>2500</td>\n      <td>3300</td>\n      <td>4550</td>\n      <td>6350</td>\n      <td>8100</td>\n    </tr>\n    <tr>\n      <th>Order 6</th>\n      <td>0</td>\n      <td>0</td>\n      <td>0</td>\n      <td>0</td>\n      <td>0</td>\n      <td>1700</td>\n      <td>1850</td>\n      <td>2250</td>\n      <td>2850</td>\n      <td>3850</td>\n      <td>5350</td>\n      <td>6850</td>\n    </tr>\n    <tr>\n      <th>Order 7</th>\n      <td>0</td>\n      <td>0</td>\n      <td>0</td>\n      <td>0</td>\n      <td>0</td>\n      <td>0</td>\n      <td>2100</td>\n      <td>2300</td>\n      <td>2700</td>\n      <td>3450</td>\n      <td>4650</td>\n      <td>5900</td>\n    </tr>\n    <tr>\n      <th>Order 8</th>\n      <td>0</td>\n      <td>0</td>\n      <td>0</td>\n      <td>0</td>\n      <td>0</td>\n      <td>0</td>\n      <td>0</td>\n      <td>2350</td>\n      <td>2550</td>\n      <td>3050</td>\n      <td>3950</td>\n      <td>4950</td>\n    </tr>\n    <tr>\n      <th>Order 9</th>\n      <td>0</td>\n      <td>0</td>\n      <td>0</td>\n      <td>0</td>\n      <td>0</td>\n      <td>0</td>\n      <td>0</td>\n      <td>0</td>\n      <td>2750</td>\n      <td>3000</td>\n      <td>3600</td>\n      <td>4350</td>\n    </tr>\n    <tr>\n      <th>Order 10</th>\n      <td>0</td>\n      <td>0</td>\n      <td>0</td>\n      <td>0</td>\n      <td>0</td>\n      <td>0</td>\n      <td>0</td>\n      <td>0</td>\n      <td>0</td>\n      <td>3050</td>\n      <td>3350</td>\n      <td>3850</td>\n    </tr>\n    <tr>\n      <th>Order 11</th>\n      <td>0</td>\n      <td>0</td>\n      <td>0</td>\n      <td>0</td>\n      <td>0</td>\n      <td>0</td>\n      <td>0</td>\n      <td>0</td>\n      <td>0</td>\n      <td>0</td>\n      <td>3500</td>\n      <td>3750</td>\n    </tr>\n    <tr>\n      <th>Order 12</th>\n      <td>0</td>\n      <td>0</td>\n      <td>0</td>\n      <td>0</td>\n      <td>0</td>\n      <td>0</td>\n      <td>0</td>\n      <td>0</td>\n      <td>0</td>\n      <td>0</td>\n      <td>0</td>\n      <td>3850</td>\n    </tr>\n  </tbody>\n</table>\n</div>"
     },
     "execution_count": 42,
     "metadata": {},
     "output_type": "execute_result"
    }
   ],
   "source": [
    "# Create columns\n",
    "data_calc = data.copy()\n",
    "\n",
    "for i in data_calc['period'].unique():\n",
    "    data_calc['Order {}'.format(i)] = 0\n",
    "\n",
    "# Order 1\n",
    "order = 1\n",
    "for index, row in data_calc.iterrows():\n",
    "    current_month = data_calc.loc[index,'period']\n",
    "    cost = 0\n",
    "    # 1 set up\n",
    "    cost += setup_cost\n",
    "    if current_month > 1:\n",
    "        for t in range(1, current_month+1):\n",
    "            cost += (t-1) * data_calc.loc[t-1,'forecast'] * holding_cost\n",
    "    data_calc.loc[index,'Order {}'.format(order)] = cost\n",
    "\n",
    "# Order 2\n",
    "for order in range(2, 13):\n",
    "    for index, row in data_calc.iterrows():\n",
    "        current_month = data_calc.loc[index,'period']\n",
    "        if current_month >= order:\n",
    "            cost = 0\n",
    "\n",
    "            # Best option best Period 1\n",
    "            values = list(data_calc.loc[order-2,['Order {}'.format(i) for i in range(1, order+1)]].values)\n",
    "            best = min([i for i in values if i >0])\n",
    "\n",
    "            # Add\n",
    "            cost += best + setup_cost\n",
    "            for t in range(order, current_month+1):\n",
    "                cost += (t-order) * data_calc.loc[t-1,'forecast'] * holding_cost\n",
    "            data_calc.loc[index,'Order {}'.format(order)] = cost\n",
    "\n",
    "data_calc = data_calc.set_index('period').drop(['forecast'], axis = 1).T\n",
    "data_calc"
   ],
   "metadata": {
    "collapsed": false,
    "ExecuteTime": {
     "end_time": "2023-10-04T18:46:32.226418Z",
     "start_time": "2023-10-04T18:46:32.154067Z"
    }
   }
  },
  {
   "cell_type": "code",
   "execution_count": 43,
   "outputs": [
    {
     "data": {
      "text/plain": "          initial  nexts  cost  quantity\nbackward                                \n1              12     11  3750       550\n2              10      9  3000       450\n3               8      6  2250       450\n4               5      1  1200       550",
      "text/html": "<div>\n<style scoped>\n    .dataframe tbody tr th:only-of-type {\n        vertical-align: middle;\n    }\n\n    .dataframe tbody tr th {\n        vertical-align: top;\n    }\n\n    .dataframe thead th {\n        text-align: right;\n    }\n</style>\n<table border=\"1\" class=\"dataframe\">\n  <thead>\n    <tr style=\"text-align: right;\">\n      <th></th>\n      <th>initial</th>\n      <th>nexts</th>\n      <th>cost</th>\n      <th>quantity</th>\n    </tr>\n    <tr>\n      <th>backward</th>\n      <th></th>\n      <th></th>\n      <th></th>\n      <th></th>\n    </tr>\n  </thead>\n  <tbody>\n    <tr>\n      <th>1</th>\n      <td>12</td>\n      <td>11</td>\n      <td>3750</td>\n      <td>550</td>\n    </tr>\n    <tr>\n      <th>2</th>\n      <td>10</td>\n      <td>9</td>\n      <td>3000</td>\n      <td>450</td>\n    </tr>\n    <tr>\n      <th>3</th>\n      <td>8</td>\n      <td>6</td>\n      <td>2250</td>\n      <td>450</td>\n    </tr>\n    <tr>\n      <th>4</th>\n      <td>5</td>\n      <td>1</td>\n      <td>1200</td>\n      <td>550</td>\n    </tr>\n  </tbody>\n</table>\n</div>"
     },
     "execution_count": 43,
     "metadata": {},
     "output_type": "execute_result"
    }
   ],
   "source": [
    "costs, initials, nexts, quantities = [], [], [], []\n",
    "i = 12\n",
    "while i>1:\n",
    "    # Order with the minimum cost\n",
    "    initial_step = i\n",
    "    next_step = data_calc[data_calc[i]>0][i].idxmin()\n",
    "    cost = data_calc[data_calc[i]>0][i].min()\n",
    "    # Next Step\n",
    "    next_id = int(next_step.replace('Order ',''))\n",
    "    i = next_id - 1\n",
    "    # Quantity\n",
    "    quantity = data[data['period'].isin(range(next_id, initial_step+1))]['forecast'].sum()\n",
    "\n",
    "    costs.append(cost)\n",
    "    initials.append(initial_step)\n",
    "    nexts.append(next_id)\n",
    "    quantities.append(quantity)\n",
    "\n",
    "df_results = pd.DataFrame({'backward':range(1, len(initials)+1),\n",
    "                           'initial':initials,\n",
    "                           'nexts':nexts,\n",
    "                           'cost':costs,\n",
    "                           'quantity':quantities}).set_index('backward')\n",
    "df_results"
   ],
   "metadata": {
    "collapsed": false,
    "ExecuteTime": {
     "end_time": "2023-10-04T18:46:32.367542Z",
     "start_time": "2023-10-04T18:46:32.304996Z"
    }
   }
  },
  {
   "cell_type": "code",
   "execution_count": 44,
   "outputs": [
    {
     "name": "stdout",
     "output_type": "stream",
     "text": [
      "Total Cost: 103,750$\n"
     ]
    },
    {
     "data": {
      "text/plain": "    period  forecast  production  IOH  Holding Cost  Set-Up Costs  \\\n0        1       200         550  350           350           500   \n1        2       150           0  200           200             0   \n2        3       100           0  100           100             0   \n3        4        50           0   50            50             0   \n4        5        50           0    0             0             0   \n5        6       100         450  350           350           500   \n6        7       150           0  200           200             0   \n7        8       200           0    0             0             0   \n8        9       200         450  250           250           500   \n9       10       250           0    0             0             0   \n10      11       300         550  250           250           500   \n11      12       250           0    0             0             0   \n\n    Production Cost  Total Cost  \n0             27500       28350  \n1                 0         200  \n2                 0         100  \n3                 0          50  \n4                 0           0  \n5             22500       23350  \n6                 0         200  \n7                 0           0  \n8             22500       23250  \n9                 0           0  \n10            27500       28250  \n11                0           0  ",
      "text/html": "<div>\n<style scoped>\n    .dataframe tbody tr th:only-of-type {\n        vertical-align: middle;\n    }\n\n    .dataframe tbody tr th {\n        vertical-align: top;\n    }\n\n    .dataframe thead th {\n        text-align: right;\n    }\n</style>\n<table border=\"1\" class=\"dataframe\">\n  <thead>\n    <tr style=\"text-align: right;\">\n      <th></th>\n      <th>period</th>\n      <th>forecast</th>\n      <th>production</th>\n      <th>IOH</th>\n      <th>Holding Cost</th>\n      <th>Set-Up Costs</th>\n      <th>Production Cost</th>\n      <th>Total Cost</th>\n    </tr>\n  </thead>\n  <tbody>\n    <tr>\n      <th>0</th>\n      <td>1</td>\n      <td>200</td>\n      <td>550</td>\n      <td>350</td>\n      <td>350</td>\n      <td>500</td>\n      <td>27500</td>\n      <td>28350</td>\n    </tr>\n    <tr>\n      <th>1</th>\n      <td>2</td>\n      <td>150</td>\n      <td>0</td>\n      <td>200</td>\n      <td>200</td>\n      <td>0</td>\n      <td>0</td>\n      <td>200</td>\n    </tr>\n    <tr>\n      <th>2</th>\n      <td>3</td>\n      <td>100</td>\n      <td>0</td>\n      <td>100</td>\n      <td>100</td>\n      <td>0</td>\n      <td>0</td>\n      <td>100</td>\n    </tr>\n    <tr>\n      <th>3</th>\n      <td>4</td>\n      <td>50</td>\n      <td>0</td>\n      <td>50</td>\n      <td>50</td>\n      <td>0</td>\n      <td>0</td>\n      <td>50</td>\n    </tr>\n    <tr>\n      <th>4</th>\n      <td>5</td>\n      <td>50</td>\n      <td>0</td>\n      <td>0</td>\n      <td>0</td>\n      <td>0</td>\n      <td>0</td>\n      <td>0</td>\n    </tr>\n    <tr>\n      <th>5</th>\n      <td>6</td>\n      <td>100</td>\n      <td>450</td>\n      <td>350</td>\n      <td>350</td>\n      <td>500</td>\n      <td>22500</td>\n      <td>23350</td>\n    </tr>\n    <tr>\n      <th>6</th>\n      <td>7</td>\n      <td>150</td>\n      <td>0</td>\n      <td>200</td>\n      <td>200</td>\n      <td>0</td>\n      <td>0</td>\n      <td>200</td>\n    </tr>\n    <tr>\n      <th>7</th>\n      <td>8</td>\n      <td>200</td>\n      <td>0</td>\n      <td>0</td>\n      <td>0</td>\n      <td>0</td>\n      <td>0</td>\n      <td>0</td>\n    </tr>\n    <tr>\n      <th>8</th>\n      <td>9</td>\n      <td>200</td>\n      <td>450</td>\n      <td>250</td>\n      <td>250</td>\n      <td>500</td>\n      <td>22500</td>\n      <td>23250</td>\n    </tr>\n    <tr>\n      <th>9</th>\n      <td>10</td>\n      <td>250</td>\n      <td>0</td>\n      <td>0</td>\n      <td>0</td>\n      <td>0</td>\n      <td>0</td>\n      <td>0</td>\n    </tr>\n    <tr>\n      <th>10</th>\n      <td>11</td>\n      <td>300</td>\n      <td>550</td>\n      <td>250</td>\n      <td>250</td>\n      <td>500</td>\n      <td>27500</td>\n      <td>28250</td>\n    </tr>\n    <tr>\n      <th>11</th>\n      <td>12</td>\n      <td>250</td>\n      <td>0</td>\n      <td>0</td>\n      <td>0</td>\n      <td>0</td>\n      <td>0</td>\n      <td>0</td>\n    </tr>\n  </tbody>\n</table>\n</div>"
     },
     "execution_count": 44,
     "metadata": {},
     "output_type": "execute_result"
    }
   ],
   "source": [
    "# Final Results\n",
    "results_final = data.copy()\n",
    "\n",
    "# Production\n",
    "month_prod = df_results['nexts'].values\n",
    "prod_dict = dict(zip(month_prod, df_results.quantity.values))\n",
    "\n",
    "# Values\n",
    "results_final['production'] = results_final['period'].apply(lambda t: prod_dict[t] if t in month_prod else 0)\n",
    "\n",
    "# Inventory On Hand\n",
    "results_final['IOH'] = (results_final['production'] - results_final['forecast']).cumsum()\n",
    "\n",
    "# Holding Cost\n",
    "results_final['Holding Cost'] = (results_final['IOH'] * holding_cost)\n",
    "\n",
    "# Set Up Cost\n",
    "results_final['Set-Up Costs'] = results_final['production'].apply(lambda t: setup_cost if t > 0 else 0)\n",
    "\n",
    "# Production Cost\n",
    "results_final['Production Cost'] = (results_final['production'] * production_cost)\n",
    "\n",
    "# Total Cost\n",
    "results_final['Total Cost'] = results_final[['Holding Cost', 'Set-Up Costs', 'Production Cost']].sum(axis = 1)\n",
    "\n",
    "Total = results_final['Total Cost'].sum()\n",
    "print(\"Total Cost: {:,}$\".format(Total))\n",
    "results_final"
   ],
   "metadata": {
    "collapsed": false,
    "ExecuteTime": {
     "end_time": "2023-10-04T18:46:32.523639Z",
     "start_time": "2023-10-04T18:46:32.423173Z"
    }
   }
  },
  {
   "cell_type": "code",
   "execution_count": 45,
   "outputs": [
    {
     "data": {
      "text/plain": "Text(0, 0.5, 'Units')"
     },
     "execution_count": 45,
     "metadata": {},
     "output_type": "execute_result"
    },
    {
     "data": {
      "text/plain": "<Figure size 1500x800 with 1 Axes>",
      "image/png": "[encoded data removed]"
     },
     "metadata": {},
     "output_type": "display_data"
    }
   ],
   "source": [
    "results_final.plot.bar(x = 'period', y = ['production', 'IOH', 'forecast'], rot = 360, figsize=(15, 8))\n",
    "plt.title(\"Quantity For Each Month\")\n",
    "plt.xlabel(\"Month\")\n",
    "plt.ylabel(\"Units\")"
   ],
   "metadata": {
    "collapsed": false,
    "ExecuteTime": {
     "end_time": "2023-10-04T18:46:32.903078Z",
     "start_time": "2023-10-04T18:46:32.566821Z"
    }
   }
  }
 ],
 "metadata": {
  "kernelspec": {
   "display_name": "Python 3",
   "language": "python",
   "name": "python3"
  },
  "language_info": {
   "codemirror_mode": {
    "name": "ipython",
    "version": 2
   },
   "file_extension": ".py",
   "mimetype": "text/x-python",
   "name": "python",
   "nbconvert_exporter": "python",
   "pygments_lexer": "ipython2",
   "version": "2.7.6"
  }
 },
 "nbformat": 4,
 "nbformat_minor": 0
}
