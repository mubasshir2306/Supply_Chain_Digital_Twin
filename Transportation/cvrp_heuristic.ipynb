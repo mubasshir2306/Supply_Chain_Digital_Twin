{
 "cells": [
  {
   "cell_type": "code",
   "execution_count": 1,
   "outputs": [],
   "source": [
    "from itertools import cycle\n",
    "\n",
    "import numpy as np\n",
    "import pandas as pd\n",
    "from scipy.spatial.distance import pdist, squareform\n",
    "import matplotlib.pyplot as plt\n",
    "import matplotlib as mpl\n",
    "from ortools.constraint_solver import routing_enums_pb2\n",
    "from ortools.constraint_solver import pywrapcp"
   ],
   "metadata": {
    "collapsed": false,
    "ExecuteTime": {
     "end_time": "2023-11-25T14:12:28.590388Z",
     "start_time": "2023-11-25T14:12:27.729579Z"
    }
   }
  },
  {
   "cell_type": "code",
   "execution_count": 2,
   "outputs": [],
   "source": [
    "dataset = pd.read_csv(\"tai30d.csv\", index_col=0)\n",
    "coordinates = dataset.loc[:, [\"x\", \"y\"]]\n",
    "demands = dataset.d.values"
   ],
   "metadata": {
    "collapsed": false,
    "ExecuteTime": {
     "end_time": "2023-11-25T14:12:29.191891Z",
     "start_time": "2023-11-25T14:12:29.178548Z"
    }
   }
  },
  {
   "cell_type": "code",
   "execution_count": 3,
   "outputs": [],
   "source": [
    "capacity = 1874\n",
    "n_vehicles = 14\n",
    "N = coordinates.shape[0]"
   ],
   "metadata": {
    "collapsed": false,
    "ExecuteTime": {
     "end_time": "2023-11-25T14:12:30.006253Z",
     "start_time": "2023-11-25T14:12:29.995883Z"
    }
   }
  },
  {
   "cell_type": "code",
   "execution_count": 4,
   "outputs": [],
   "source": [
    "distances = squareform(pdist(coordinates, metric=\"euclidean\"))\n",
    "distances = np.round(distances, decimals=4)"
   ],
   "metadata": {
    "collapsed": false,
    "ExecuteTime": {
     "end_time": "2023-11-25T14:12:30.584399Z",
     "start_time": "2023-11-25T14:12:30.579343Z"
    }
   }
  },
  {
   "cell_type": "code",
   "execution_count": 5,
   "outputs": [],
   "source": [
    "# Create the routing index manager: number of nodes, number of vehicles, depot node\n",
    "manager = pywrapcp.RoutingIndexManager(\n",
    "    N, n_vehicles, 0\n",
    ")\n",
    "\n",
    "# Create Routing Model\n",
    "routing = pywrapcp.RoutingModel(manager)"
   ],
   "metadata": {
    "collapsed": false,
    "ExecuteTime": {
     "end_time": "2023-11-25T14:12:31.194004Z",
     "start_time": "2023-11-25T14:12:31.183235Z"
    }
   }
  },
  {
   "cell_type": "code",
   "execution_count": 6,
   "outputs": [],
   "source": [
    "# Same valid for any callback related to arcs/edges\n",
    "def distance_callback(from_index, to_index):\n",
    "    from_node = manager.IndexToNode(from_index)\n",
    "    to_node = manager.IndexToNode(to_index)\n",
    "    return distances[from_node][to_node]\n",
    "\n",
    "transit_callback_index = routing.RegisterTransitCallback(distance_callback)"
   ],
   "metadata": {
    "collapsed": false,
    "ExecuteTime": {
     "end_time": "2023-11-25T14:12:31.829277Z",
     "start_time": "2023-11-25T14:12:31.819831Z"
    }
   }
  },
  {
   "cell_type": "code",
   "execution_count": 7,
   "outputs": [],
   "source": [
    "# Same valid for any callback related to nodes\n",
    "def demand_callback(from_index):\n",
    "    from_node = manager.IndexToNode(from_index)\n",
    "    return demands[from_node]\n",
    "\n",
    "demand_callback_index = routing.RegisterUnaryTransitCallback(demand_callback)"
   ],
   "metadata": {
    "collapsed": false,
    "ExecuteTime": {
     "end_time": "2023-11-25T14:12:32.509306Z",
     "start_time": "2023-11-25T14:12:32.503405Z"
    }
   }
  },
  {
   "cell_type": "code",
   "execution_count": 8,
   "outputs": [
    {
     "data": {
      "text/plain": "True"
     },
     "execution_count": 8,
     "metadata": {},
     "output_type": "execute_result"
    }
   ],
   "source": [
    "# Any constraint associated with vehicles can take same arguments\n",
    "routing.AddDimensionWithVehicleCapacity(\n",
    "    demand_callback_index,\n",
    "    0,  # null capacity slack\n",
    "    [capacity,] * n_vehicles,  # vehicle maximum capacities (list for each vehicle)\n",
    "    True,  # start cumul to zero\n",
    "    'Capacity'\n",
    ")"
   ],
   "metadata": {
    "collapsed": false,
    "ExecuteTime": {
     "end_time": "2023-11-25T14:12:33.171542Z",
     "start_time": "2023-11-25T14:12:33.162711Z"
    }
   }
  },
  {
   "cell_type": "code",
   "execution_count": 9,
   "outputs": [],
   "source": [
    "# Define cost of each arc\n",
    "routing.SetArcCostEvaluatorOfAllVehicles(transit_callback_index)"
   ],
   "metadata": {
    "collapsed": false,
    "ExecuteTime": {
     "end_time": "2023-11-25T14:12:33.875308Z",
     "start_time": "2023-11-25T14:12:33.865420Z"
    }
   }
  },
  {
   "cell_type": "code",
   "execution_count": 10,
   "outputs": [
    {
     "name": "stdout",
     "output_type": "stream",
     "text": [
      "Exception during solving: <built-in function RoutingModel_SolveWithParameters> returned a result with an exception set\n"
     ]
    }
   ],
   "source": [
    "# Setting heuristic strategies\n",
    "search_parameters = pywrapcp.DefaultRoutingSearchParameters()\n",
    "search_parameters.first_solution_strategy = (\n",
    "    routing_enums_pb2.FirstSolutionStrategy.CHRISTOFIDES\n",
    ")\n",
    "search_parameters.local_search_metaheuristic = (\n",
    "    routing_enums_pb2.LocalSearchMetaheuristic.GUIDED_LOCAL_SEARCH\n",
    ")\n",
    "search_parameters.time_limit.FromSeconds(300)\n",
    "\n",
    "# Solve the problem\n",
    "try:\n",
    "    solution = routing.SolveWithParameters(search_parameters)\n",
    "except Exception as e:\n",
    "    print(\"Exception during solving:\", e)"
   ],
   "metadata": {
    "collapsed": false,
    "ExecuteTime": {
     "end_time": "2023-11-25T14:12:34.596545Z",
     "start_time": "2023-11-25T14:12:34.572727Z"
    }
   }
  },
  {
   "cell_type": "code",
   "execution_count": null,
   "outputs": [],
   "source": [],
   "metadata": {
    "collapsed": false
   }
  }
 ],
 "metadata": {
  "kernelspec": {
   "display_name": "Python 3",
   "language": "python",
   "name": "python3"
  },
  "language_info": {
   "codemirror_mode": {
    "name": "ipython",
    "version": 2
   },
   "file_extension": ".py",
   "mimetype": "text/x-python",
   "name": "python",
   "nbconvert_exporter": "python",
   "pygments_lexer": "ipython2",
   "version": "2.7.6"
  }
 },
 "nbformat": 4,
 "nbformat_minor": 0
}
