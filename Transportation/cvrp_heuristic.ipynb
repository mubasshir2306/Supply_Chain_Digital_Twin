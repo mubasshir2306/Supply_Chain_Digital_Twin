{
 "cells": [
  {
   "cell_type": "code",
   "execution_count": 13,
   "outputs": [],
   "source": [
    "from itertools import cycle\n",
    "\n",
    "import numpy as np\n",
    "import pandas as pd\n",
    "from scipy.spatial.distance import pdist, squareform\n",
    "import matplotlib.pyplot as plt\n",
    "import matplotlib as mpl\n",
    "from ortools.constraint_solver import routing_enums_pb2\n",
    "from ortools.constraint_solver import pywrapcp"
   ],
   "metadata": {
    "collapsed": false,
    "ExecuteTime": {
     "end_time": "2023-11-29T16:46:41.433537Z",
     "start_time": "2023-11-29T16:46:41.424803Z"
    }
   }
  },
  {
   "cell_type": "code",
   "execution_count": 14,
   "outputs": [],
   "source": [
    "dataset = pd.read_csv(\"tai30d.csv\", index_col=0)\n",
    "coordinates = dataset.loc[:, [\"x\", \"y\"]]\n",
    "demands = dataset.d.values"
   ],
   "metadata": {
    "collapsed": false,
    "ExecuteTime": {
     "end_time": "2023-11-29T16:46:41.743541Z",
     "start_time": "2023-11-29T16:46:41.729277Z"
    }
   }
  },
  {
   "cell_type": "code",
   "execution_count": 15,
   "outputs": [],
   "source": [
    "capacity = 1874\n",
    "n_vehicles = 14\n",
    "N = coordinates.shape[0]"
   ],
   "metadata": {
    "collapsed": false,
    "ExecuteTime": {
     "end_time": "2023-11-29T16:46:42.077248Z",
     "start_time": "2023-11-29T16:46:42.071778Z"
    }
   }
  },
  {
   "cell_type": "code",
   "execution_count": 16,
   "outputs": [],
   "source": [
    "distances = squareform(pdist(coordinates, metric=\"euclidean\"))\n",
    "distances = np.round(distances, decimals=4)"
   ],
   "metadata": {
    "collapsed": false,
    "ExecuteTime": {
     "end_time": "2023-11-29T16:46:42.506814Z",
     "start_time": "2023-11-29T16:46:42.468994Z"
    }
   }
  },
  {
   "cell_type": "code",
   "execution_count": 17,
   "outputs": [],
   "source": [
    "# Create the routing index manager: number of nodes, number of vehicles, depot node\n",
    "manager = pywrapcp.RoutingIndexManager(\n",
    "    N, n_vehicles, 0\n",
    ")\n",
    "\n",
    "# Create Routing Model\n",
    "routing = pywrapcp.RoutingModel(manager)"
   ],
   "metadata": {
    "collapsed": false,
    "ExecuteTime": {
     "end_time": "2023-11-29T16:46:43.791537Z",
     "start_time": "2023-11-29T16:46:43.785614Z"
    }
   }
  },
  {
   "cell_type": "code",
   "execution_count": 18,
   "outputs": [],
   "source": [
    "# Same valid for any callback related to arcs/edges\n",
    "def distance_callback(from_index, to_index):\n",
    "    from_node = manager.IndexToNode(from_index)\n",
    "    to_node = manager.IndexToNode(to_index)\n",
    "    return distances[from_node][to_node]\n",
    "\n",
    "transit_callback_index = routing.RegisterTransitCallback(distance_callback)"
   ],
   "metadata": {
    "collapsed": false,
    "ExecuteTime": {
     "end_time": "2023-11-29T16:46:44.354127Z",
     "start_time": "2023-11-29T16:46:44.351002Z"
    }
   }
  },
  {
   "cell_type": "code",
   "execution_count": 19,
   "outputs": [],
   "source": [
    "# Same valid for any callback related to nodes\n",
    "def demand_callback(from_index):\n",
    "    from_node = manager.IndexToNode(from_index)\n",
    "    return demands[from_node]\n",
    "\n",
    "demand_callback_index = routing.RegisterUnaryTransitCallback(demand_callback)"
   ],
   "metadata": {
    "collapsed": false,
    "ExecuteTime": {
     "end_time": "2023-11-29T16:46:44.759889Z",
     "start_time": "2023-11-29T16:46:44.689180Z"
    }
   }
  },
  {
   "cell_type": "code",
   "execution_count": 20,
   "outputs": [
    {
     "data": {
      "text/plain": "True"
     },
     "execution_count": 20,
     "metadata": {},
     "output_type": "execute_result"
    }
   ],
   "source": [
    "# Any constraint associated with vehicles can take same arguments\n",
    "routing.AddDimensionWithVehicleCapacity(\n",
    "    demand_callback_index,\n",
    "    0,  # null capacity slack\n",
    "    [capacity,] * n_vehicles,  # vehicle maximum capacities (list for each vehicle)\n",
    "    True,  # start cumul to zero\n",
    "    'Capacity'\n",
    ")"
   ],
   "metadata": {
    "collapsed": false,
    "ExecuteTime": {
     "end_time": "2023-11-29T16:46:45.226302Z",
     "start_time": "2023-11-29T16:46:45.220938Z"
    }
   }
  },
  {
   "cell_type": "code",
   "execution_count": 21,
   "outputs": [],
   "source": [
    "# Define cost of each arc\n",
    "routing.SetArcCostEvaluatorOfAllVehicles(transit_callback_index)"
   ],
   "metadata": {
    "collapsed": false,
    "ExecuteTime": {
     "end_time": "2023-11-29T16:46:45.605412Z",
     "start_time": "2023-11-29T16:46:45.599430Z"
    }
   }
  },
  {
   "cell_type": "code",
   "execution_count": 22,
   "outputs": [
    {
     "ename": "SystemError",
     "evalue": "<built-in function RoutingModel_SolveWithParameters> returned a result with an exception set",
     "output_type": "error",
     "traceback": [
      "\u001B[0;31m---------------------------------------------------------------------------\u001B[0m",
      "\u001B[0;31mOverflowError\u001B[0m                             Traceback (most recent call last)",
      "Cell \u001B[0;32mIn[19], line 3\u001B[0m, in \u001B[0;36mdemand_callback\u001B[0;34m(from_index)\u001B[0m\n\u001B[1;32m      2\u001B[0m \u001B[38;5;28;01mdef\u001B[39;00m \u001B[38;5;21mdemand_callback\u001B[39m(from_index):\n\u001B[0;32m----> 3\u001B[0m     from_node \u001B[38;5;241m=\u001B[39m \u001B[43mmanager\u001B[49m\u001B[38;5;241;43m.\u001B[39;49m\u001B[43mIndexToNode\u001B[49m\u001B[43m(\u001B[49m\u001B[43mfrom_index\u001B[49m\u001B[43m)\u001B[49m\n\u001B[1;32m      4\u001B[0m     \u001B[38;5;28;01mreturn\u001B[39;00m demands[from_node]\n",
      "File \u001B[0;32m~/Desktop/Supply Chain Digital Twin/venv/lib/python3.11/site-packages/ortools/constraint_solver/pywrapcp.py:4582\u001B[0m, in \u001B[0;36mRoutingIndexManager.IndexToNode\u001B[0;34m(self, index)\u001B[0m\n\u001B[1;32m   4581\u001B[0m \u001B[38;5;28;01mdef\u001B[39;00m \u001B[38;5;21mIndexToNode\u001B[39m(\u001B[38;5;28mself\u001B[39m, index):\n\u001B[0;32m-> 4582\u001B[0m     \u001B[38;5;28;01mreturn\u001B[39;00m \u001B[43m_pywrapcp\u001B[49m\u001B[38;5;241;43m.\u001B[39;49m\u001B[43mRoutingIndexManager_IndexToNode\u001B[49m\u001B[43m(\u001B[49m\u001B[38;5;28;43mself\u001B[39;49m\u001B[43m,\u001B[49m\u001B[43m \u001B[49m\u001B[43mindex\u001B[49m\u001B[43m)\u001B[49m\n",
      "\u001B[0;31mOverflowError\u001B[0m: in method 'RoutingIndexManager_IndexToNode', argument 2 of type 'int64_t'",
      "\nThe above exception was the direct cause of the following exception:\n",
      "\u001B[0;31mSystemError\u001B[0m                               Traceback (most recent call last)",
      "Cell \u001B[0;32mIn[22], line 13\u001B[0m\n\u001B[1;32m      9\u001B[0m search_parameters\u001B[38;5;241m.\u001B[39mtime_limit\u001B[38;5;241m.\u001B[39mFromSeconds(\u001B[38;5;241m300\u001B[39m)\n\u001B[1;32m     11\u001B[0m \u001B[38;5;66;03m# Solve the problem\u001B[39;00m\n\u001B[1;32m     12\u001B[0m \u001B[38;5;66;03m# try:\u001B[39;00m\n\u001B[0;32m---> 13\u001B[0m solution \u001B[38;5;241m=\u001B[39m \u001B[43mrouting\u001B[49m\u001B[38;5;241;43m.\u001B[39;49m\u001B[43mSolveWithParameters\u001B[49m\u001B[43m(\u001B[49m\u001B[43msearch_parameters\u001B[49m\u001B[43m)\u001B[49m\n\u001B[1;32m     14\u001B[0m \u001B[38;5;66;03m# except Exception as e:\u001B[39;00m\n\u001B[1;32m     15\u001B[0m \u001B[38;5;66;03m#     print(\"Exception during solving:\", e)\u001B[39;00m\n",
      "File \u001B[0;32m~/Desktop/Supply Chain Digital Twin/venv/lib/python3.11/site-packages/ortools/constraint_solver/pywrapcp.py:5398\u001B[0m, in \u001B[0;36mRoutingModel.SolveWithParameters\u001B[0;34m(self, search_parameters, solutions)\u001B[0m\n\u001B[1;32m   5388\u001B[0m \u001B[38;5;28;01mdef\u001B[39;00m \u001B[38;5;21mSolveWithParameters\u001B[39m(\u001B[38;5;28mself\u001B[39m, search_parameters, solutions\u001B[38;5;241m=\u001B[39m\u001B[38;5;28;01mNone\u001B[39;00m):\n\u001B[1;32m   5389\u001B[0m \u001B[38;5;250m    \u001B[39m\u001B[38;5;124mr\u001B[39m\u001B[38;5;124;03m\"\"\"\u001B[39;00m\n\u001B[1;32m   5390\u001B[0m \u001B[38;5;124;03m    Solves the current routing model with the given parameters. If 'solutions'\u001B[39;00m\n\u001B[1;32m   5391\u001B[0m \u001B[38;5;124;03m    is specified, it will contain the k best solutions found during the search\u001B[39;00m\n\u001B[0;32m   (...)\u001B[0m\n\u001B[1;32m   5396\u001B[0m \u001B[38;5;124;03m    deleted.\u001B[39;00m\n\u001B[1;32m   5397\u001B[0m \u001B[38;5;124;03m    \"\"\"\u001B[39;00m\n\u001B[0;32m-> 5398\u001B[0m     \u001B[38;5;28;01mreturn\u001B[39;00m \u001B[43m_pywrapcp\u001B[49m\u001B[38;5;241;43m.\u001B[39;49m\u001B[43mRoutingModel_SolveWithParameters\u001B[49m\u001B[43m(\u001B[49m\u001B[38;5;28;43mself\u001B[39;49m\u001B[43m,\u001B[49m\u001B[43m \u001B[49m\u001B[43msearch_parameters\u001B[49m\u001B[43m,\u001B[49m\u001B[43m \u001B[49m\u001B[43msolutions\u001B[49m\u001B[43m)\u001B[49m\n",
      "\u001B[0;31mSystemError\u001B[0m: <built-in function RoutingModel_SolveWithParameters> returned a result with an exception set"
     ]
    }
   ],
   "source": [
    "# Setting heuristic strategies\n",
    "search_parameters = pywrapcp.DefaultRoutingSearchParameters()\n",
    "search_parameters.first_solution_strategy = (\n",
    "    routing_enums_pb2.FirstSolutionStrategy.CHRISTOFIDES\n",
    ")\n",
    "search_parameters.local_search_metaheuristic = (\n",
    "    routing_enums_pb2.LocalSearchMetaheuristic.GUIDED_LOCAL_SEARCH\n",
    ")\n",
    "search_parameters.time_limit.FromSeconds(300)\n",
    "\n",
    "# Solve the problem\n",
    "# try:\n",
    "solution = routing.SolveWithParameters(search_parameters)\n",
    "# except Exception as e:\n",
    "#     print(\"Exception during solving:\", e)"
   ],
   "metadata": {
    "collapsed": false,
    "ExecuteTime": {
     "end_time": "2023-11-29T16:46:46.264349Z",
     "start_time": "2023-11-29T16:46:46.235887Z"
    }
   }
  },
  {
   "cell_type": "code",
   "execution_count": null,
   "outputs": [],
   "source": [],
   "metadata": {
    "collapsed": false
   }
  }
 ],
 "metadata": {
  "kernelspec": {
   "display_name": "Python 3",
   "language": "python",
   "name": "python3"
  },
  "language_info": {
   "codemirror_mode": {
    "name": "ipython",
    "version": 2
   },
   "file_extension": ".py",
   "mimetype": "text/x-python",
   "name": "python",
   "nbconvert_exporter": "python",
   "pygments_lexer": "ipython2",
   "version": "2.7.6"
  }
 },
 "nbformat": 4,
 "nbformat_minor": 0
}
